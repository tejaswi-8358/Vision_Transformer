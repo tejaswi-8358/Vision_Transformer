{
 "cells": [
  {
   "cell_type": "raw",
   "id": "8be60e50",
   "metadata": {},
   "source": [
    "Step 1 : Import Libraries and Dataset"
   ]
  },
  {
   "cell_type": "code",
   "execution_count": null,
   "id": "53ad0705",
   "metadata": {},
   "outputs": [],
   "source": [
    "#!pip install tensorflow==2.8.0\n",
    "#!pip install keras==2.8.0\n",
    "#!pip install tensorflow-addons==0.17.0"
   ]
  },
  {
   "cell_type": "code",
   "execution_count": 1,
   "id": "4ddc6dc9",
   "metadata": {},
   "outputs": [],
   "source": [
    "#import libraries\n",
    "import numpy as np\n",
    "import tensorflow as tf\n",
    "from tensorflow import keras\n",
    "from tensorflow.keras import layers\n",
    "import tensorflow_addons as tfa\n",
    "import matplotlib.pyplot as plt"
   ]
  },
  {
   "cell_type": "code",
   "execution_count": 2,
   "id": "862f6227",
   "metadata": {},
   "outputs": [],
   "source": [
    "# import dataset \n",
    "num_classes = 10\n",
    "input_shape = (32,32,3)\n",
    "\n",
    "(x_train,y_train),(x_test,y_test) = keras.datasets.cifar10.load_data()"
   ]
  },
  {
   "cell_type": "code",
   "execution_count": 3,
   "id": "fbbb5e2f",
   "metadata": {},
   "outputs": [],
   "source": [
    "x_train =x_train[:500]\n",
    "y_train =y_train[:500]\n",
    "x_test =x_test[:100]\n",
    "y_test =y_test[:100]\n"
   ]
  },
  {
   "cell_type": "code",
   "execution_count": 4,
   "id": "86c16166",
   "metadata": {},
   "outputs": [
    {
     "data": {
      "text/plain": [
       "(500, 32, 32, 3)"
      ]
     },
     "execution_count": 4,
     "metadata": {},
     "output_type": "execute_result"
    }
   ],
   "source": [
    "x_train.shape"
   ]
  },
  {
   "cell_type": "code",
   "execution_count": 5,
   "id": "6a08594f",
   "metadata": {},
   "outputs": [
    {
     "data": {
      "text/plain": [
       "(500, 1)"
      ]
     },
     "execution_count": 5,
     "metadata": {},
     "output_type": "execute_result"
    }
   ],
   "source": [
    "y_train.shape"
   ]
  },
  {
   "cell_type": "code",
   "execution_count": 6,
   "id": "a237df4f",
   "metadata": {},
   "outputs": [
    {
     "data": {
      "text/plain": [
       "(100, 32, 32, 3)"
      ]
     },
     "execution_count": 6,
     "metadata": {},
     "output_type": "execute_result"
    }
   ],
   "source": [
    "x_test.shape"
   ]
  },
  {
   "cell_type": "code",
   "execution_count": 7,
   "id": "37456772",
   "metadata": {},
   "outputs": [
    {
     "data": {
      "text/plain": [
       "(100, 1)"
      ]
     },
     "execution_count": 7,
     "metadata": {},
     "output_type": "execute_result"
    }
   ],
   "source": [
    "y_test.shape"
   ]
  },
  {
   "cell_type": "raw",
   "id": "1ad39fee",
   "metadata": {},
   "source": [
    "Step 2:Hyper Parameter definition"
   ]
  },
  {
   "cell_type": "code",
   "execution_count": 8,
   "id": "50c1fa95",
   "metadata": {},
   "outputs": [],
   "source": [
    "learning_rate = 0.001\n",
    "weight_decay = 0.0001\n",
    "batch_size = 256\n",
    "num_epochs = 30\n",
    "image_size = 72\n",
    "patch_size = 6\n",
    "num_patches =(image_size // patch_size) **2\n",
    "projection_dim = 64\n",
    "num_heads = 4\n",
    "transformer_units = [projection_dim *2,projection_dim]\n",
    "transformer_layers = 8\n",
    "mlp_head_units = [2048 ,1024]"
   ]
  },
  {
   "cell_type": "raw",
   "id": "688dbb27",
   "metadata": {},
   "source": [
    "Step 3:Build ViT classifier Model"
   ]
  },
  {
   "cell_type": "raw",
   "id": "71c6341d",
   "metadata": {},
   "source": [
    "3.1 Data Augmentation"
   ]
  },
  {
   "cell_type": "code",
   "execution_count": 9,
   "id": "2f56fafb",
   "metadata": {},
   "outputs": [],
   "source": [
    "data_augmentation = keras.Sequential(\n",
    "    [\n",
    "        layers.Normalization(),\n",
    "        layers.Resizing(image_size,image_size),\n",
    "        layers.RandomFlip(\"horizontal\"),\n",
    "        layers.RandomRotation(factor=0.2),\n",
    "        layers.RandomZoom(height_factor=0.2,width_factor=0.2)\n",
    "    ],\n",
    "    name =\"data_augmentation\",)\n",
    "data_augmentation.layers[0].adapt(x_train)"
   ]
  },
  {
   "cell_type": "raw",
   "id": "9b1117e3",
   "metadata": {},
   "source": [
    "3.2 Define MLP Architecture"
   ]
  },
  {
   "cell_type": "code",
   "execution_count": 10,
   "id": "3b0d5fcb",
   "metadata": {},
   "outputs": [],
   "source": [
    "def mlp(x,hidden_units ,dropout_rate):\n",
    "    for units in hidden_units:\n",
    "        x = layers.Dense(units,activation=tf.nn.gelu)(x)\n",
    "        x = layers.Dropout(dropout_rate)(x)\n",
    "    return x"
   ]
  },
  {
   "cell_type": "raw",
   "id": "2bd38505",
   "metadata": {},
   "source": [
    "3.3 Patches"
   ]
  },
  {
   "cell_type": "code",
   "execution_count": 11,
   "id": "0dc0617e",
   "metadata": {},
   "outputs": [],
   "source": [
    "class Patches(layers.Layer):\n",
    "    def __init__(self,patch_size):\n",
    "        super(Patches,self).__init__()\n",
    "        self.patch_size = patch_size\n",
    "    def call(self,images):\n",
    "        batch_size = tf.shape(images)[0]\n",
    "        patches = tf.image.extract_patches(images = images,sizes =[1,self.patch_size,self.patch_size,1],\n",
    "                                          strides = [1,self.patch_size,self.patch_size,1],rates=[1,1,1,1],\n",
    "                                          padding = \"VALID\")\n",
    "        patch_dim = patches.shape[-1]\n",
    "        patches = tf.reshape(patches,[batch_size,-1,patch_dim])\n",
    "        return patches"
   ]
  },
  {
   "cell_type": "code",
   "execution_count": 12,
   "id": "850be6ba",
   "metadata": {},
   "outputs": [
    {
     "data": {
      "image/png": "[encoded data removed]",
      "text/plain": [
       "<Figure size 400x400 with 1 Axes>"
      ]
     },
     "metadata": {},
     "output_type": "display_data"
    },
    {
     "data": {
      "image/png": "[encoded data removed]",
      "text/plain": [
       "<Figure size 400x400 with 144 Axes>"
      ]
     },
     "metadata": {},
     "output_type": "display_data"
    }
   ],
   "source": [
    "#import matplotlib.pyplot as plt\n",
    "\n",
    "plt.figure(figsize=(4,4))\n",
    "image = x_train[np.random.choice(range(x_train.shape[0]))]\n",
    "plt.imshow(image)\n",
    "plt.axis('off')\n",
    "\n",
    "resized_image = tf.image.resize(tf.convert_to_tensor([image]), size=(image_size,image_size))\n",
    "patches = Patches(patch_size)(resized_image)\n",
    "\n",
    "n = int(np.sqrt(patches.shape[1]))\n",
    "plt.figure(figsize=(4,4))\n",
    "for i, patch in enumerate(patches[0]):\n",
    "    ax = plt.subplot(n,n,i+1)\n",
    "    patch_imag = tf.reshape(patch,(patch_size,patch_size,3))\n",
    "    plt.imshow(patch_imag.numpy().astype('uint8'))\n",
    "    plt.axis('off')\n"
   ]
  },
  {
   "cell_type": "code",
   "execution_count": 13,
   "id": "0e27c73c",
   "metadata": {},
   "outputs": [],
   "source": [
    "class PatchEncoder(layers.Layer):\n",
    "    def __init__(self, num_patches,projection_dim):\n",
    "        super(PatchEncoder,self).__init__()\n",
    "        self.num_patches = num_patches\n",
    "        self.projection = layers.Dense(units = projection_dim)\n",
    "        self.position_embedding = layers.Embedding(input_dim=num_patches,output_dim = projection_dim)\n",
    "      \n",
    "    def call(self, patch):\n",
    "        positions = tf.range(start=0,limit = self.num_patches,delta=1)\n",
    "        encoded = self.projection(patch)+ self.position_embedding(positions)\n",
    "        return encoded\n",
    "        "
   ]
  },
  {
   "cell_type": "code",
   "execution_count": 14,
   "id": "dafae5ca",
   "metadata": {},
   "outputs": [],
   "source": [
    "def create_vit_classifier():\n",
    "    inputs = layers.Input(shape=input_shape)\n",
    "    augmentation = data_augmentation(inputs)\n",
    "    patches = Patches(patch_size)(augmentation)\n",
    "    encoded_patches =PatchEncoder(num_patches,projection_dim)(patches)\n",
    "    \n",
    "    for _ in range(transformer_layers):\n",
    "        x1 = layers.LayerNormalization(epsilon = 1e-6)(encoded_patches)\n",
    "        attention_output =layers.MultiHeadAttention(num_heads = num_heads,key_dim=projection_dim,dropout =0.1)(x1,x1)\n",
    "        x2 = layers.Add()([attention_output,encoded_patches])\n",
    "        x3 = layers.LayerNormalization(epsilon=1e-6)(x2)\n",
    "        x4 = mlp(x3,hidden_units=transformer_units,dropout_rate=0.1)\n",
    "        encoded_patches = layers.Add()([x4,x2])\n",
    "        \n",
    "    representation = layers.LayerNormalization(epsilon=1e-6)(encoded_patches)\n",
    "    representation = layers.Flatten()(representation)\n",
    "    representation = layers.Dropout(0.5)(representation)\n",
    "    \n",
    "    features = mlp(representation, hidden_units=mlp_head_units,dropout_rate=0.5)\n",
    "    logits = layers.Dense(num_classes)(features)\n",
    "    \n",
    "    model = keras.Model(inputs=inputs,outputs = logits)\n",
    "    return model"
   ]
  },
  {
   "cell_type": "code",
   "execution_count": 15,
   "id": "a333f36e",
   "metadata": {},
   "outputs": [],
   "source": [
    "def run(model):\n",
    "    optimizer = tfa.optimizers.AdamW(learning_rate=learning_rate,weight_decay=weight_decay)\n",
    "    model.compile(optimizer=optimizer,loss = keras.losses.SparseCategoricalCrossentropy(from_logits=True),\n",
    "                 metrics = [keras.metrics.SparseCategoricalAccuracy(name=\"accuracy\"),\n",
    "                          keras.metrics.SparseTopKCategoricalAccuracy(5, name=\"top_5_accuracy\"),],)\n",
    "    checkpoint_filepath = \"./tmp/checkpoint\"\n",
    "    checkpoint_callback = keras.callbacks.ModelCheckpoint(checkpoint_filepath,monitor=\"val_accuracy\",\n",
    "                                                         save_best_only=True,save_weights_only=True)\n",
    "    history = model.fit(x=x_train,y=y_train,batch_size=batch_size,epochs = num_epochs,validation_split=0.1,\n",
    "                       callbacks=[checkpoint_callback],)\n",
    "    _,accuracy,top_5_accuracy =model.evaluate(x_test,y_test)\n",
    "    print(f\"Test Accuracy: {round(accuracy *100),2}%\")\n",
    "    print(f\"Test top 5 Accuracy :{round(top_5_accuracy *100),2}%\")"
   ]
  },
  {
   "cell_type": "code",
   "execution_count": 16,
   "id": "1d1a5829",
   "metadata": {},
   "outputs": [
    {
     "name": "stdout",
     "output_type": "stream",
     "text": [
      "Epoch 1/30\n",
      "2/2 [==============================] - 26s 9s/step - loss: 7.1065 - accuracy: 0.1000 - top_5_accuracy: 0.5467 - val_loss: 6.2281 - val_accuracy: 0.2600 - val_top_5_accuracy: 0.5800\n",
      "Epoch 2/30\n",
      "2/2 [==============================] - 15s 8s/step - loss: 7.0436 - accuracy: 0.1711 - top_5_accuracy: 0.5711 - val_loss: 2.7710 - val_accuracy: 0.2200 - val_top_5_accuracy: 0.5200\n",
      "Epoch 3/30\n",
      "2/2 [==============================] - 16s 7s/step - loss: 3.9426 - accuracy: 0.1244 - top_5_accuracy: 0.5800 - val_loss: 2.4155 - val_accuracy: 0.1600 - val_top_5_accuracy: 0.7400\n",
      "Epoch 4/30\n",
      "2/2 [==============================] - 17s 8s/step - loss: 3.0399 - accuracy: 0.1489 - top_5_accuracy: 0.6156 - val_loss: 2.1786 - val_accuracy: 0.2200 - val_top_5_accuracy: 0.6200\n",
      "Epoch 5/30\n",
      "2/2 [==============================] - 17s 8s/step - loss: 2.7639 - accuracy: 0.1733 - top_5_accuracy: 0.6444 - val_loss: 1.9544 - val_accuracy: 0.2600 - val_top_5_accuracy: 0.7600\n",
      "Epoch 6/30\n",
      "2/2 [==============================] - 17s 8s/step - loss: 2.4803 - accuracy: 0.2089 - top_5_accuracy: 0.7133 - val_loss: 1.9698 - val_accuracy: 0.2600 - val_top_5_accuracy: 0.7400\n",
      "Epoch 7/30\n",
      "2/2 [==============================] - 17s 8s/step - loss: 2.4508 - accuracy: 0.1978 - top_5_accuracy: 0.6911 - val_loss: 2.0084 - val_accuracy: 0.1600 - val_top_5_accuracy: 0.8000\n",
      "Epoch 8/30\n",
      "2/2 [==============================] - 18s 8s/step - loss: 2.3825 - accuracy: 0.2200 - top_5_accuracy: 0.6911 - val_loss: 1.9294 - val_accuracy: 0.2400 - val_top_5_accuracy: 0.8200\n",
      "Epoch 9/30\n",
      "2/2 [==============================] - 17s 8s/step - loss: 2.1745 - accuracy: 0.2422 - top_5_accuracy: 0.7533 - val_loss: 1.9455 - val_accuracy: 0.2000 - val_top_5_accuracy: 0.8400\n",
      "Epoch 10/30\n",
      "2/2 [==============================] - 19s 10s/step - loss: 2.1897 - accuracy: 0.2556 - top_5_accuracy: 0.7689 - val_loss: 1.9220 - val_accuracy: 0.3000 - val_top_5_accuracy: 0.8400\n",
      "Epoch 11/30\n",
      "2/2 [==============================] - 18s 8s/step - loss: 2.1845 - accuracy: 0.2844 - top_5_accuracy: 0.7600 - val_loss: 1.9398 - val_accuracy: 0.2600 - val_top_5_accuracy: 0.8600\n",
      "Epoch 12/30\n",
      "2/2 [==============================] - 18s 8s/step - loss: 2.0965 - accuracy: 0.2556 - top_5_accuracy: 0.7667 - val_loss: 2.0015 - val_accuracy: 0.2200 - val_top_5_accuracy: 0.7600\n",
      "Epoch 13/30\n",
      "2/2 [==============================] - 18s 9s/step - loss: 2.0566 - accuracy: 0.2844 - top_5_accuracy: 0.7622 - val_loss: 1.9894 - val_accuracy: 0.2400 - val_top_5_accuracy: 0.8200\n",
      "Epoch 14/30\n",
      "2/2 [==============================] - 19s 8s/step - loss: 1.9873 - accuracy: 0.3200 - top_5_accuracy: 0.7889 - val_loss: 1.9902 - val_accuracy: 0.2400 - val_top_5_accuracy: 0.8400\n",
      "Epoch 15/30\n",
      "2/2 [==============================] - 18s 8s/step - loss: 2.0157 - accuracy: 0.2778 - top_5_accuracy: 0.7956 - val_loss: 1.9447 - val_accuracy: 0.2200 - val_top_5_accuracy: 0.8400\n",
      "Epoch 16/30\n",
      "2/2 [==============================] - 18s 8s/step - loss: 1.9684 - accuracy: 0.2933 - top_5_accuracy: 0.8111 - val_loss: 1.9401 - val_accuracy: 0.2000 - val_top_5_accuracy: 0.8000\n",
      "Epoch 17/30\n",
      "2/2 [==============================] - 18s 8s/step - loss: 2.0470 - accuracy: 0.2622 - top_5_accuracy: 0.8200 - val_loss: 1.9556 - val_accuracy: 0.2000 - val_top_5_accuracy: 0.7600\n",
      "Epoch 18/30\n",
      "2/2 [==============================] - 18s 9s/step - loss: 2.0286 - accuracy: 0.2778 - top_5_accuracy: 0.8089 - val_loss: 1.9428 - val_accuracy: 0.2400 - val_top_5_accuracy: 0.8600\n",
      "Epoch 19/30\n",
      "2/2 [==============================] - 19s 9s/step - loss: 1.9542 - accuracy: 0.2978 - top_5_accuracy: 0.8111 - val_loss: 1.9413 - val_accuracy: 0.2400 - val_top_5_accuracy: 0.8000\n",
      "Epoch 20/30\n",
      "2/2 [==============================] - 19s 9s/step - loss: 1.9755 - accuracy: 0.2933 - top_5_accuracy: 0.8067 - val_loss: 1.9172 - val_accuracy: 0.3000 - val_top_5_accuracy: 0.7600\n",
      "Epoch 21/30\n",
      "2/2 [==============================] - 18s 8s/step - loss: 1.9706 - accuracy: 0.3000 - top_5_accuracy: 0.7844 - val_loss: 1.9397 - val_accuracy: 0.3000 - val_top_5_accuracy: 0.8000\n",
      "Epoch 22/30\n",
      "2/2 [==============================] - 19s 8s/step - loss: 1.9154 - accuracy: 0.3289 - top_5_accuracy: 0.8000 - val_loss: 1.9845 - val_accuracy: 0.2400 - val_top_5_accuracy: 0.7800\n",
      "Epoch 23/30\n",
      "2/2 [==============================] - 18s 8s/step - loss: 1.8625 - accuracy: 0.3489 - top_5_accuracy: 0.8311 - val_loss: 1.9481 - val_accuracy: 0.2800 - val_top_5_accuracy: 0.8200\n",
      "Epoch 24/30\n",
      "2/2 [==============================] - 18s 8s/step - loss: 1.8089 - accuracy: 0.3356 - top_5_accuracy: 0.8356 - val_loss: 1.9279 - val_accuracy: 0.2400 - val_top_5_accuracy: 0.8800\n",
      "Epoch 25/30\n",
      "2/2 [==============================] - 18s 8s/step - loss: 1.8310 - accuracy: 0.3622 - top_5_accuracy: 0.8422 - val_loss: 1.9084 - val_accuracy: 0.2200 - val_top_5_accuracy: 0.8600\n",
      "Epoch 26/30\n",
      "2/2 [==============================] - 18s 8s/step - loss: 1.8114 - accuracy: 0.3622 - top_5_accuracy: 0.8444 - val_loss: 1.9001 - val_accuracy: 0.2600 - val_top_5_accuracy: 0.8400\n",
      "Epoch 27/30\n",
      "2/2 [==============================] - 18s 8s/step - loss: 1.7487 - accuracy: 0.3867 - top_5_accuracy: 0.8667 - val_loss: 1.9063 - val_accuracy: 0.3000 - val_top_5_accuracy: 0.8600\n",
      "Epoch 28/30\n",
      "2/2 [==============================] - 18s 8s/step - loss: 1.7703 - accuracy: 0.3778 - top_5_accuracy: 0.8489 - val_loss: 1.9038 - val_accuracy: 0.2400 - val_top_5_accuracy: 0.8600\n",
      "Epoch 29/30\n",
      "2/2 [==============================] - 18s 8s/step - loss: 1.8101 - accuracy: 0.3267 - top_5_accuracy: 0.8600 - val_loss: 1.8871 - val_accuracy: 0.2000 - val_top_5_accuracy: 0.8600\n",
      "Epoch 30/30\n",
      "2/2 [==============================] - 24s 10s/step - loss: 1.6816 - accuracy: 0.3933 - top_5_accuracy: 0.8844 - val_loss: 1.8715 - val_accuracy: 0.2600 - val_top_5_accuracy: 0.8600\n",
      "4/4 [==============================] - 2s 390ms/step - loss: 1.8770 - accuracy: 0.2800 - top_5_accuracy: 0.8600\n",
      "Test Accuracy: (28, 2)%\n",
      "Test top 5 Accuracy :(86, 2)%\n"
     ]
    }
   ],
   "source": [
    "vit_classifier = create_vit_classifier()\n",
    "history = run(vit_classifier)"
   ]
  },
  {
   "cell_type": "code",
   "execution_count": 17,
   "id": "6690ef44",
   "metadata": {},
   "outputs": [],
   "source": [
    "class_names = [\n",
    "    'airplane',\n",
    "    'automobile',\n",
    "    'bird',\n",
    "    'cat',\n",
    "    'deer',\n",
    "    'dog',\n",
    "    'frog',\n",
    "    'horse',\n",
    "    'ship',\n",
    "    'truck'\n",
    "]"
   ]
  },
  {
   "cell_type": "code",
   "execution_count": 18,
   "id": "99203362",
   "metadata": {},
   "outputs": [],
   "source": [
    "def img_predict(images,model) :\n",
    "    if len(images.shape)==3:\n",
    "        out =model.predict(images.reshape(-1,*images.shape))\n",
    "    else:\n",
    "        out = model.predict(images)\n",
    "    prediction = np.argmax(out,axis =1)\n",
    "    img_prediction = [class_names[i] for i in prediction]\n",
    "    return img_prediction"
   ]
  },
  {
   "cell_type": "code",
   "execution_count": 19,
   "id": "c5a46e9a",
   "metadata": {},
   "outputs": [
    {
     "name": "stdout",
     "output_type": "stream",
     "text": [
      "['automobile']\n"
     ]
    },
    {
     "data": {
      "image/png": "[encoded data removed]",
      "text/plain": [
       "<Figure size 640x480 with 1 Axes>"
      ]
     },
     "metadata": {},
     "output_type": "display_data"
    }
   ],
   "source": [
    "index = 50\n",
    "plt.imshow(x_test[index])\n",
    "prediction =img_predict(x_test[index], vit_classifier)\n",
    "print(prediction)"
   ]
  },
  {
   "cell_type": "code",
   "execution_count": null,
   "id": "36a7cc93",
   "metadata": {},
   "outputs": [],
   "source": []
  }
 ],
 "metadata": {
  "kernelspec": {
   "display_name": "Python 3 (ipykernel)",
   "language": "python",
   "name": "python3"
  },
  "language_info": {
   "codemirror_mode": {
    "name": "ipython",
    "version": 3
   },
   "file_extension": ".py",
   "mimetype": "text/x-python",
   "name": "python",
   "nbconvert_exporter": "python",
   "pygments_lexer": "ipython3",
   "version": "3.9.13"
  }
 },
 "nbformat": 4,
 "nbformat_minor": 5
}
